{
  "nbformat": 4,
  "nbformat_minor": 0,
  "metadata": {
    "colab": {
      "provenance": [],
      "authorship_tag": "ABX9TyPjO+p+s0lVhQLFtw/j4Y/R",
      "include_colab_link": true
    },
    "kernelspec": {
      "name": "python3",
      "display_name": "Python 3"
    },
    "language_info": {
      "name": "python"
    }
  },
  "cells": [
    {
      "cell_type": "markdown",
      "metadata": {
        "id": "view-in-github",
        "colab_type": "text"
      },
      "source": [
        "<a href=\"https://colab.research.google.com/github/suzannefox/burrow/blob/main/compare_metadata_dataframes.ipynb\" target=\"_parent\"><img src=\"https://colab.research.google.com/assets/colab-badge.svg\" alt=\"Open In Colab\"/></a>"
      ]
    },
    {
      "cell_type": "code",
      "source": [
        "import pandas as pd"
      ],
      "metadata": {
        "id": "HTKnAid_u6q1"
      },
      "execution_count": 1,
      "outputs": []
    },
    {
      "cell_type": "code",
      "source": [
        "# Function to generate a report of similarities and differences in 2 dataframes\n",
        "def generate_report(z1, z2):\n",
        "    report = []\n",
        "\n",
        "    z1name = [name for name in globals() if globals()[name] is z1][0]\n",
        "    z2name = [name for name in globals() if globals()[name] is z2][0]\n",
        "\n",
        "    # Find common and unique variables\n",
        "    common_vars = set(z1['Variables']).intersection(set(z2['Variables']))\n",
        "    unique_z1_vars = set(z1['Variables']).difference(set(z2['Variables']))\n",
        "    unique_z2_vars = set(z2['Variables']).difference(set(z1['Variables']))\n",
        "\n",
        "    report.append(f\"Unique Variables in {z1name}:\\n\" + \"\\n\".join(unique_z1_vars))\n",
        "    report.append(f\"\\nUnique Variables in {z2name}:\\n\" + \"\\n\".join(unique_z2_vars))\n",
        "\n",
        "    # Compare common variables\n",
        "    report.append(\"\\nDifferences in common variables:\")\n",
        "    for var in common_vars:\n",
        "        z1_row = z1[z1['Variables'] == var]\n",
        "        z2_row = z2[z2['Variables'] == var]\n",
        "        if not z1_row.empty and not z2_row.empty:\n",
        "            z1_order, z2_order = z1_row['Order'].values[0], z2_row['Order'].values[0]\n",
        "            z1_excel, z2_excel = z1_row['Excel'].values[0], z2_row['Excel'].values[0]\n",
        "            if z1_order != z2_order or z1_excel != z2_excel:\n",
        "                report.append(f\"\\nVariable: {var}\")\n",
        "                if z1_order != z2_order:\n",
        "                    report.append(f\"  Order: {z1name} = {z1_order}, {z2name} = {z2_order}\")\n",
        "                if z1_excel != z2_excel:\n",
        "                    report.append(f\"  Excel: {z1name} = {z1_excel}, {z2name} = {z2_excel}\")\n",
        "\n",
        "    return \"\\n\".join(report)\n"
      ],
      "metadata": {
        "id": "btEyKNtIu2lY"
      },
      "execution_count": 2,
      "outputs": []
    },
    {
      "cell_type": "code",
      "execution_count": 3,
      "metadata": {
        "id": "qPZRHxSln-0K"
      },
      "outputs": [],
      "source": [
        "# create some example metadata dataframes\n",
        "penguins_meta_20240621 = pd.DataFrame({'Variables': ['species','sex','island','bill_length_mm','bill_depth_mm','flipper_length_mm','body_mass_g'],\n",
        "                   'Order': [1,2,3,4,5,6,7],\n",
        "                   'Excel': ['A','B','C','D','E','F','G']})\n",
        "\n",
        "penguins_meta_20240623 = pd.DataFrame({'Variables': ['species','island','billlength','billdepth','flipper_length_mm','body_mass_g','sex','timestamp'],\n",
        "                   'Order': [1,2,3,4,5,6,7,8],\n",
        "                   'Excel': ['A','B','C','D','E','F','G','H']})"
      ]
    },
    {
      "cell_type": "code",
      "source": [
        "# Generate and print the report\n",
        "report = generate_report(penguins_meta_20240621,  penguins_meta_20240623)\n",
        "print(report)"
      ],
      "metadata": {
        "colab": {
          "base_uri": "https://localhost:8080/"
        },
        "id": "VzNjBHCpvJwn",
        "outputId": "9d60bfc6-e78d-44c2-f39e-50c220baa760"
      },
      "execution_count": 4,
      "outputs": [
        {
          "output_type": "stream",
          "name": "stdout",
          "text": [
            "Unique Variables in penguins_meta_20240621:\n",
            "bill_depth_mm\n",
            "bill_length_mm\n",
            "\n",
            "Unique Variables in penguins_meta_20240623:\n",
            "timestamp\n",
            "billdepth\n",
            "billlength\n",
            "\n",
            "Differences in common variables:\n",
            "\n",
            "Variable: island\n",
            "  Order: penguins_meta_20240621 = 3, penguins_meta_20240623 = 2\n",
            "  Excel: penguins_meta_20240621 = C, penguins_meta_20240623 = B\n",
            "\n",
            "Variable: flipper_length_mm\n",
            "  Order: penguins_meta_20240621 = 6, penguins_meta_20240623 = 5\n",
            "  Excel: penguins_meta_20240621 = F, penguins_meta_20240623 = E\n",
            "\n",
            "Variable: sex\n",
            "  Order: penguins_meta_20240621 = 2, penguins_meta_20240623 = 7\n",
            "  Excel: penguins_meta_20240621 = B, penguins_meta_20240623 = G\n",
            "\n",
            "Variable: body_mass_g\n",
            "  Order: penguins_meta_20240621 = 7, penguins_meta_20240623 = 6\n",
            "  Excel: penguins_meta_20240621 = G, penguins_meta_20240623 = F\n"
          ]
        }
      ]
    }
  ]
}